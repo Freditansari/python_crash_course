{
 "cells": [
  {
   "cell_type": "code",
   "execution_count": 25,
   "metadata": {},
   "outputs": [
    {
     "data": {
      "text/plain": [
       "(0, 2)"
      ]
     },
     "execution_count": 25,
     "metadata": {},
     "output_type": "execute_result"
    },
    {
     "data": {
      "image/png": "[encoded data removed]",
      "text/plain": [
       "<Figure size 800x200 with 1 Axes>"
      ]
     },
     "metadata": {
      "needs_background": "light"
     },
     "output_type": "display_data"
    }
   ],
   "source": [
    "import matplotlib.pyplot as plt\n",
    "%matplotlib inline\n",
    "\n",
    "import numpy as np \n",
    "x = np.linspace(0,5,11)\n",
    "y = x**2\n",
    "\n",
    "fig = plt.figure(figsize=(8,2), dpi = 100)\n",
    "ax = fig.add_axes([0,0,1,1])\n",
    "# ax.plot(x,y, color='#FF8C00', linewidth=3, alpha=0.25)\n",
    "# ax.plot(x,y, color='#FF8C00', linewidth=1, linestyle='-', marker = '*', markersize='20', markerfacecolor='green', markeredgewidth=3, markeredgecolor='green')\n",
    "ax.plot(x,y, color='#FF8C00', linewidth=1, linestyle='-')\n",
    "ax.set_xlim([0,1])\n",
    "ax.set_ylim([0,2])"
   ]
  },
  {
   "cell_type": "code",
   "execution_count": null,
   "metadata": {},
   "outputs": [],
   "source": []
  }
 ],
 "metadata": {
  "kernelspec": {
   "display_name": "Python 3",
   "language": "python",
   "name": "python3"
  },
  "language_info": {
   "codemirror_mode": {
    "name": "ipython",
    "version": 3
   },
   "file_extension": ".py",
   "mimetype": "text/x-python",
   "name": "python",
   "nbconvert_exporter": "python",
   "pygments_lexer": "ipython3",
   "version": "3.7.1"
  }
 },
 "nbformat": 4,
 "nbformat_minor": 2
}
